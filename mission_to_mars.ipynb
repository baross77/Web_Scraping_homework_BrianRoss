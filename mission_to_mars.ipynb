{
 "cells": [
  {
   "cell_type": "code",
   "execution_count": 119,
   "metadata": {},
   "outputs": [],
   "source": [
    "import pandas as pd\n",
    "from splinter import Browser\n",
    "from bs4 import BeautifulSoup as bs\n",
    "import time\n",
    "from flask import Flask, render_template\n",
    "import pymongo\n",
    "import requests\n",
    "from selenium import webdriver\n",
    "\n"
   ]
  },
  {
   "cell_type": "markdown",
   "metadata": {},
   "source": [
    "# NASA Mars News\n",
    "\n",
    "\n",
    "Scrape the NASA Mars News Site and collect the latest News Title and Paragraph Text. \n",
    "Assign the text to variables that you can reference later."
   ]
  },
  {
   "cell_type": "code",
   "execution_count": 65,
   "metadata": {},
   "outputs": [],
   "source": [
    "news_info={}\n",
    "news_p = []\n",
    "\n",
    "nasa_url = \"https://mars.nasa.gov/news/\"      \n",
    "base_url = \"https://mars.nasa.gov/\"\n",
    "response_1 = requests.get(nasa_url)\n",
    "nasa_soup = bs(response_1.text,'html.parser')"
   ]
  },
  {
   "cell_type": "code",
   "execution_count": 66,
   "metadata": {},
   "outputs": [],
   "source": [
    "soup_div = nasa_soup.find(class_=\"slide\")                                    \n",
    "soup_news = soup_div.find_all('a')                                         \n",
    "news_title = soup_news[1].get_text().strip()"
   ]
  },
  {
   "cell_type": "code",
   "execution_count": 67,
   "metadata": {},
   "outputs": [],
   "source": [
    "soup_div = nasa_soup.find(class_=\"slide\")                                   \n",
    "soup_news = soup_div.find_all('a')                                           \n",
    "news_title = soup_news[1].get_text().strip()    "
   ]
  },
  {
   "cell_type": "code",
   "execution_count": 68,
   "metadata": {},
   "outputs": [],
   "source": [
    "soup_p = soup_div.find_all('a', href=True)                                  \n",
    "soup_p_url = soup_p[0]['href']                                             \n",
    "paragraph_url = base_url + soup_p_url                                        \n",
    "response_2 = requests.get(paragraph_url)                                         \n",
    "para_soup = bs(response_2.text, \"html.parser\")                               \n",
    "ww_paragraphs = para_soup.find(class_='wysiwyg_content')                    \n",
    "paragraphs = ww_paragraphs.find_all('p')  "
   ]
  },
  {
   "cell_type": "code",
   "execution_count": 69,
   "metadata": {},
   "outputs": [],
   "source": [
    "for paragraph in paragraphs:                                                 \n",
    "    clean_paragraph = paragraph.get_text().strip()                           \n",
    "    news_p.append(clean_paragraph)   "
   ]
  },
  {
   "cell_type": "code",
   "execution_count": 70,
   "metadata": {},
   "outputs": [
    {
     "data": {
      "text/plain": [
       "{'news_title': 'Why This Martian Full Moon Looks Like Candy',\n",
       " 'news_p': [\"For the first time, NASA's Mars Odyssey orbiter has caught the Martian moon Phobos during a full moon phase. Each color in this new image represents a temperature range detected by Odyssey's infrared camera, which has been studying the Martian moon since September of 2017. Looking like a rainbow-colored jawbreaker, these latest observations could help scientists understand what materials make up Phobos, the larger of Mars' two moons.\",\n",
       "  \"Odyssey is NASA's longest-lived Mars mission. Its heat-vision camera, the Thermal Emission Imaging System (THEMIS), can detect changes in surface temperature asPhobos circles Mars every seven hours. Different textures and minerals determine how much heat THEMIS detects.\",\n",
       "  '\"This new image is a kind of temperature bullseye — warmest in the middle and gradually cooler moving out,\" said Jeffrey Plaut, Odyssey project scientist at NASA\\'s Jet Propulsion Laboratory in Pasadena, California, which leads the mission. \"Each Phobos observation is done from a slightly different angle or time of day, providing a new kind of data.\"',\n",
       "  'On April 24, 2019, THEMIS looked at Phobos dead-on, with the Sun behind the spacecraft. This full moon view is better for studying material composition, whereas half-moon views are better for looking at surface textures.',\n",
       "  '\"With the half-moon views, we could see how rough or smooth the surface is and how it\\'s layered,\" said Joshua Bandfield, a THEMIS co-investigator and senior research scientist at the Space Sciences Institute in Boulder, Colorado. \"Now we\\'re gathering data on what minerals are in it, including metals.\"',\n",
       "  \"Iron and nickel are two such metals. Depending on how abundant the metals are, and how they're mixed with other minerals, these data could help determine whether Phobos is a captured asteroid or a pile of Mars fragments, blasted into space by a giant impact long ago.\",\n",
       "  \"These recent observations won't definitively explain Phobos' origin, Bandfield added. But Odyssey is collecting vital data on a moon scientists still know little about — one that future missions might want to visit.Human exploration of Phobos has been discussed in the space community as a distant, future possibility, and a Japanese sample-return mission to the moon is scheduled for launch in the 2020s.\",\n",
       "  '\"By studying the surface features, we\\'re learning where the rockiest spots on Phobos are and where the fine, fluffy dust is,\" Bandfield said. \"Identifying landing hazards and understanding the space environment could help future missions to land on the surface.\"',\n",
       "  \"Odyssey has been orbiting Mars since 2001. It takes thousands of images of the Martian surface each month, many of which help scientists select landing sites for future missions. The spacecraft also serves an important role relaying data for Mars' newest inhabitant, NASA's InSight lander. But studying Phobos is a new chapter for the orbiter.\",\n",
       "  '\"I think it\\'s a great example of taking a spacecraft that\\'s been around a very long time and finding new things you can do with it,\" Bandfield said. \"It\\'s great that you can still use this tool to collect groundbreaking science.\"',\n",
       "  \"NASA's Jet Propulsion Laboratory manages the 2001 Mars Odyssey mission for NASA's Science Mission Directorate in Washington. THEMIS was developed by Arizona State University in Tempe in collaboration with Raytheon Santa Barbara Remote Sensing. The THEMIS investigation is led by Philip Christensen at Arizona State University. The prime contractor for the Odyssey project, Lockheed Martin Space in Denver, developed and built the orbiter. Mission operations are conducted jointly from Lockheed Martin and from JPL, a division of Caltech in Pasadena.\",\n",
       "  'News Media Contact',\n",
       "  'Andrew Good\\nJet Propulsion Laboratory, Pasadena, Calif.\\n818-393-2433\\nandrew.c.good@jpl.nasa.gov']}"
      ]
     },
     "execution_count": 70,
     "metadata": {},
     "output_type": "execute_result"
    }
   ],
   "source": [
    "news_info[\"news_title\"] = news_title \n",
    "news_info[\"news_p\"]= news_p\n",
    "news_info   \n",
    "\n"
   ]
  },
  {
   "cell_type": "markdown",
   "metadata": {},
   "source": [
    "# JPL Mars Space Images - Featured Image\n",
    "\n",
    "\n",
    "Visit the url for JPL Featured Space Image here.\n",
    "\n",
    "Use splinter to navigate the site and find the image url for the current Featured Mars Image and assign the url string to a variable called featured_image_url.\n",
    "\n",
    "Make sure to find the image url to the full size .jpg image.\n",
    "\n",
    "Make sure to save a complete url string for this image."
   ]
  },
  {
   "cell_type": "code",
   "execution_count": 86,
   "metadata": {},
   "outputs": [],
   "source": [
    "executable_path = {\"executable_path\": \"chromedriver.exe\"}\n",
    "browser = Browser(\"chrome\", **executable_path, headless=False)\n",
    "\n",
    "jpl_nasa_url = 'https://www.jpl.nasa.gov/spaceimages/?search=&category=Mars'\n",
    "browser.visit(jpl_nasa_url)"
   ]
  },
  {
   "cell_type": "code",
   "execution_count": 87,
   "metadata": {},
   "outputs": [],
   "source": [
    "# Find and Click \"FULL IMAGE\" button\n",
    "full_image_data = browser.find_by_id('full_image')\n",
    "full_image_data.click()"
   ]
  },
  {
   "cell_type": "code",
   "execution_count": 88,
   "metadata": {},
   "outputs": [],
   "source": [
    "time.sleep(2)\n",
    "more_info_data = browser.find_link_by_partial_text('more info')\n",
    "more_info_data.click()"
   ]
  },
  {
   "cell_type": "code",
   "execution_count": 89,
   "metadata": {},
   "outputs": [],
   "source": [
    "time.sleep(2)\n",
    "mars_images_html = browser.html\n",
    "mars_images_data = bs(mars_images_html, 'html.parser')"
   ]
  },
  {
   "cell_type": "code",
   "execution_count": 90,
   "metadata": {},
   "outputs": [
    {
     "name": "stdout",
     "output_type": "stream",
     "text": [
      "The featured_image_url is: /spaceimages/images/largesize/PIA17044_hires.jpg\n"
     ]
    }
   ],
   "source": [
    "try:    \n",
    "    featured_image_url = mars_images_data.find('figure', class_='lede').a['href']\n",
    "    print(f\"The featured_image_url is: {featured_image_url}\") \n",
    "    \n",
    "except AttributeError as e:\n",
    "    print(e)"
   ]
  },
  {
   "cell_type": "code",
   "execution_count": 91,
   "metadata": {},
   "outputs": [
    {
     "name": "stdout",
     "output_type": "stream",
     "text": [
      "The full_image_url is: https://www.jpl.nasa.gov/spaceimages/images/largesize/PIA17044_hires.jpg\n"
     ]
    }
   ],
   "source": [
    "#full image url\n",
    "full_image_url = \"https://www.jpl.nasa.gov\" + featured_image_url\n",
    "print(f\"The full_image_url is: {full_image_url}\")\n"
   ]
  },
  {
   "cell_type": "markdown",
   "metadata": {},
   "source": [
    "# Mars Weather\n",
    "\n",
    "\n",
    "Visit the Mars Weather twitter account here and scrape the latest Mars weather tweet from the page. Save the tweet text for the weather report as a variable called mars_weather."
   ]
  },
  {
   "cell_type": "code",
   "execution_count": 92,
   "metadata": {},
   "outputs": [],
   "source": [
    "mars_weather_twitter_url = 'https://twitter.com/marswxreport?lang=en)'\n",
    "browser.visit(mars_weather_twitter_url)\n",
    "mars_weather_html = browser.html\n",
    "mars_weather_data = bs(mars_weather_html, 'html.parser')"
   ]
  },
  {
   "cell_type": "code",
   "execution_count": 93,
   "metadata": {},
   "outputs": [
    {
     "name": "stdout",
     "output_type": "stream",
     "text": [
      "The mars_weather is: InSight sol 167 (2019-05-17) low -100.5ºC (-148.9ºF) high -20.4ºC (-4.6ºF)\n",
      "winds from the SW at 4.7 m/s (10.6 mph) gusting to 13.5 m/s (30.3 mph)\n",
      "pressure at 7.50 hPapic.twitter.com/0Eqt9nN21o\n"
     ]
    }
   ],
   "source": [
    "mars_weather  = mars_weather_data.find('div', attrs={\"class\": \"tweet\", \"data-name\": \"Mars Weather\"}).\\\n",
    "find('p',class_=\"TweetTextSize TweetTextSize--normal js-tweet-text tweet-text\").text\n",
    "print(f\"The mars_weather is: {mars_weather}\")"
   ]
  },
  {
   "cell_type": "markdown",
   "metadata": {},
   "source": [
    "# Mars Facts\n",
    "\n",
    "\n",
    "Visit the Mars Facts webpage here and use Pandas to scrape the table containing facts about the planet including Diameter, Mass, etc.\n",
    "\n",
    "Use Pandas to convert the data to a HTML table string."
   ]
  },
  {
   "cell_type": "code",
   "execution_count": 94,
   "metadata": {},
   "outputs": [
    {
     "data": {
      "text/html": [
       "<div>\n",
       "<style scoped>\n",
       "    .dataframe tbody tr th:only-of-type {\n",
       "        vertical-align: middle;\n",
       "    }\n",
       "\n",
       "    .dataframe tbody tr th {\n",
       "        vertical-align: top;\n",
       "    }\n",
       "\n",
       "    .dataframe thead th {\n",
       "        text-align: right;\n",
       "    }\n",
       "</style>\n",
       "<table border=\"1\" class=\"dataframe\">\n",
       "  <thead>\n",
       "    <tr style=\"text-align: right;\">\n",
       "      <th></th>\n",
       "      <th>Description</th>\n",
       "      <th>Value</th>\n",
       "    </tr>\n",
       "  </thead>\n",
       "  <tbody>\n",
       "    <tr>\n",
       "      <th>0</th>\n",
       "      <td>Equatorial Diameter:</td>\n",
       "      <td>6,792 km</td>\n",
       "    </tr>\n",
       "    <tr>\n",
       "      <th>1</th>\n",
       "      <td>Polar Diameter:</td>\n",
       "      <td>6,752 km</td>\n",
       "    </tr>\n",
       "    <tr>\n",
       "      <th>2</th>\n",
       "      <td>Mass:</td>\n",
       "      <td>6.42 x 10^23 kg (10.7% Earth)</td>\n",
       "    </tr>\n",
       "    <tr>\n",
       "      <th>3</th>\n",
       "      <td>Moons:</td>\n",
       "      <td>2 (Phobos &amp; Deimos)</td>\n",
       "    </tr>\n",
       "    <tr>\n",
       "      <th>4</th>\n",
       "      <td>Orbit Distance:</td>\n",
       "      <td>227,943,824 km (1.52 AU)</td>\n",
       "    </tr>\n",
       "    <tr>\n",
       "      <th>5</th>\n",
       "      <td>Orbit Period:</td>\n",
       "      <td>687 days (1.9 years)</td>\n",
       "    </tr>\n",
       "    <tr>\n",
       "      <th>6</th>\n",
       "      <td>Surface Temperature:</td>\n",
       "      <td>-153 to 20 °C</td>\n",
       "    </tr>\n",
       "    <tr>\n",
       "      <th>7</th>\n",
       "      <td>First Record:</td>\n",
       "      <td>2nd millennium BC</td>\n",
       "    </tr>\n",
       "    <tr>\n",
       "      <th>8</th>\n",
       "      <td>Recorded By:</td>\n",
       "      <td>Egyptian astronomers</td>\n",
       "    </tr>\n",
       "  </tbody>\n",
       "</table>\n",
       "</div>"
      ],
      "text/plain": [
       "            Description                          Value\n",
       "0  Equatorial Diameter:                       6,792 km\n",
       "1       Polar Diameter:                       6,752 km\n",
       "2                 Mass:  6.42 x 10^23 kg (10.7% Earth)\n",
       "3                Moons:            2 (Phobos & Deimos)\n",
       "4       Orbit Distance:       227,943,824 km (1.52 AU)\n",
       "5         Orbit Period:           687 days (1.9 years)\n",
       "6  Surface Temperature:                  -153 to 20 °C\n",
       "7         First Record:              2nd millennium BC\n",
       "8          Recorded By:           Egyptian astronomers"
      ]
     },
     "execution_count": 94,
     "metadata": {},
     "output_type": "execute_result"
    }
   ],
   "source": [
    "mars_facts_url = 'https://space-facts.com/mars/'\n",
    "mars_facts_table_df = pd.read_html(mars_facts_url)[0]\n",
    "mars_facts_table_df.columns = ['Description','Value']\n",
    "mars_facts_table_df"
   ]
  },
  {
   "cell_type": "code",
   "execution_count": 95,
   "metadata": {},
   "outputs": [],
   "source": [
    "#Use Pandas to convert the data to a HTML table string\n",
    "mars_facts_table_df.to_html('MarsFactsTable.html', index=False )"
   ]
  },
  {
   "cell_type": "markdown",
   "metadata": {},
   "source": [
    "# Mars Hemispheres\n",
    "\n",
    "\n",
    "Visit the USGS Astrogeology site here to obtain high resolution images for each of Mar's hemispheres.\n",
    "\n",
    "You will need to click each of the links to the hemispheres in order to find the image url to the full resolution image.\n",
    "\n",
    "Save both the image url string for the full resolution hemisphere image, and the Hemisphere title containing the hemisphere name. Use a Python dictionary to store the data using the keys img_url and title.\n",
    "\n",
    "Append the dictionary with the image url string and the hemisphere title to a list. This list will contain one dictionary for each hemisphere."
   ]
  },
  {
   "cell_type": "code",
   "execution_count": 111,
   "metadata": {},
   "outputs": [],
   "source": [
    "usgs_astrogeology_url = 'https://astrogeology.usgs.gov/search/results?q=hemisphere+enhanced&k1=target&v1=Mars'\n",
    "browser.visit(usgs_astrogeology_url)\n",
    "\n",
    "hemisphere_image_urls = []\n",
    "\n",
    "usgs_astrogeology_html = browser.html\n",
    "all_hemisphere_data = bs(usgs_astrogeology_html, 'html.parser')"
   ]
  },
  {
   "cell_type": "code",
   "execution_count": 112,
   "metadata": {},
   "outputs": [],
   "source": [
    "hemisphere_results = all_hemisphere_data.find('div', class_='collapsible results').find_all('div',class_='item')"
   ]
  },
  {
   "cell_type": "code",
   "execution_count": 116,
   "metadata": {},
   "outputs": [
    {
     "name": "stdout",
     "output_type": "stream",
     "text": [
      "{'title': 'Cerberus Hemisphere', 'image_url': 'http://astropedia.astrogeology.usgs.gov/download/Mars/Viking/cerberus_enhanced.tif/full.jpg'}\n",
      "{'title': 'Schiaparelli Hemisphere', 'image_url': 'http://astropedia.astrogeology.usgs.gov/download/Mars/Viking/schiaparelli_enhanced.tif/full.jpg'}\n",
      "{'title': 'Syrtis Major Hemisphere', 'image_url': 'http://astropedia.astrogeology.usgs.gov/download/Mars/Viking/syrtis_major_enhanced.tif/full.jpg'}\n",
      "{'title': 'Valles Marineris Hemisphere', 'image_url': 'http://astropedia.astrogeology.usgs.gov/download/Mars/Viking/valles_marineris_enhanced.tif/full.jpg'}\n"
     ]
    }
   ],
   "source": [
    "# Loop through hemisphere results\n",
    "for each_hemisphere in hemisphere_results:\n",
    "    hem_title_old = each_hemisphere.find('div', class_='description').find('a', class_='itemLink product-item').h3.text\n",
    "# Eliminate the word 'Enhanced' from title\n",
    "    hem_title = ' '.join(hem_title_old.split()[0:-1])\n",
    "#print(hem_title)\n",
    "     \n",
    "    base_hem_url = 'https://astrogeology.usgs.gov'\n",
    "\n",
    "    each_hem_image_url = base_hem_url + each_hemisphere.find('a',class_='itemLink product-item')['href']\n",
    "    \n",
    "    browser.visit(each_hem_image_url)\n",
    "    time.sleep(2)\n",
    "    each_hem_img_html = browser.html\n",
    "    each_hem_data = bs(each_hem_img_html, 'html.parser')\n",
    "    full_image_url = each_hem_data.find('div',class_='downloads').a['href']\n",
    "    \n",
    "    each_hemisphere_image = {\n",
    "        \"title\" : hem_title,\n",
    "        \"image_url\" : full_image_url\n",
    "    }\n",
    "    print(each_hemisphere_image)\n",
    "\n",
    "    hemisphere_image_urls.append(each_hemisphere_image)"
   ]
  },
  {
   "cell_type": "code",
   "execution_count": null,
   "metadata": {},
   "outputs": [],
   "source": []
  },
  {
   "cell_type": "code",
   "execution_count": null,
   "metadata": {},
   "outputs": [],
   "source": []
  }
 ],
 "metadata": {
  "kernelspec": {
   "display_name": "Python 3",
   "language": "python",
   "name": "python3"
  },
  "language_info": {
   "codemirror_mode": {
    "name": "ipython",
    "version": 3
   },
   "file_extension": ".py",
   "mimetype": "text/x-python",
   "name": "python",
   "nbconvert_exporter": "python",
   "pygments_lexer": "ipython3",
   "version": "3.7.1"
  }
 },
 "nbformat": 4,
 "nbformat_minor": 2
}
